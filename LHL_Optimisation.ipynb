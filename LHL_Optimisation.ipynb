{
 "cells": [
  {
   "cell_type": "markdown",
   "metadata": {},
   "source": [
    "# Optimising LHL-Syncopation Score\n",
    "\n",
    "Optimising instrumentation weights in Witek et al. (2014) polyphonic variant on the Longuet-Higgins & Lee (1984) syncopation index.\n",
    "\n",
    "**Why do we assume the original instrumentation weights are the most appropriate for every experiment?**\n",
    "\n",
    "Simply uses black-box Bayesian optimisation to derive two- and three-stream syncopation weights that minimise Akaike information criterion (AIC) for a simple OLS linear regression model."
   ]
  },
  {
   "cell_type": "code",
   "execution_count": 1,
   "metadata": {},
   "outputs": [],
   "source": [
    "import collections\n",
    "import itertools\n",
    "import numpy as np\n",
    "import optuna\n",
    "import pandas as pd\n",
    "import scipy.stats\n",
    "import seaborn as sns\n",
    "import statsmodels.api as sm"
   ]
  },
  {
   "cell_type": "markdown",
   "metadata": {},
   "source": [
    "## Stimulus"
   ]
  },
  {
   "cell_type": "code",
   "execution_count": 31,
   "metadata": {},
   "outputs": [],
   "source": [
    "# Lucerne Groove Research Library\n",
    "d_df = pd.read_csv('data.csv')\n",
    "e_df = pd.read_csv('events.csv')\n",
    "syncopation = dict(d_df[['siglum', 'syncopation']].values)"
   ]
  },
  {
   "cell_type": "code",
   "execution_count": 32,
   "metadata": {},
   "outputs": [
    {
     "data": {
      "text/plain": [
       "HiHat                1235\n",
       "BassDrum              687\n",
       "SnareDrum             428\n",
       "HiHatOpen             124\n",
       "HiHatHalfOpen          70\n",
       "CrashCymbal            33\n",
       "SnareDrumClick         30\n",
       "RideCymbal             22\n",
       "RideCymbalCrashed       7\n",
       "SnareDrumRoll           2\n",
       "Name: Instrument, dtype: int64"
      ]
     },
     "execution_count": 32,
     "metadata": {},
     "output_type": "execute_result"
    }
   ],
   "source": [
    "s_df['Instrument'].value_counts()"
   ]
  },
  {
   "cell_type": "code",
   "execution_count": 33,
   "metadata": {},
   "outputs": [],
   "source": [
    "bad_audiofiles = s_df[(s_df['Beats'] % 0.25) > 0]['Audiofile'].unique()\n",
    "s_df = s_df[~s_df['Audiofile'].isin(bad_audiofiles)]\n",
    "N = len(s_df['siglum'].unique())"
   ]
  },
  {
   "cell_type": "markdown",
   "metadata": {},
   "source": [
    "## Algorithm"
   ]
  },
  {
   "cell_type": "code",
   "execution_count": 5,
   "metadata": {},
   "outputs": [],
   "source": [
    "INST_MAP = {\n",
    "    'HiHat': 'HH',\n",
    "    'BassDrum': 'BD',\n",
    "    'SnareDrum': 'SD',\n",
    "    'RideCymbal': 'HH',\n",
    "    'HiHatHalfOpen': 'HH'\n",
    "}"
   ]
  },
  {
   "cell_type": "code",
   "execution_count": 6,
   "metadata": {},
   "outputs": [],
   "source": [
    "rhythm = [''] * (16*4 + 1)\n",
    "weights16 = [\n",
    "   0, -3, -2, -3,\n",
    "  -1, -3, -2, -3,\n",
    "  -1, -3, -2, -3,\n",
    "  -1, -3, -2, -3\n",
    "] \n",
    "weights = weights16 * 4 + [0]\n",
    "assert len(weights) == len(rhythm)"
   ]
  },
  {
   "cell_type": "markdown",
   "metadata": {},
   "source": [
    "Rhythm is represented as a list for each metric position across bars, e.g. `[\"HH-BD\", \"HH\", ...]`."
   ]
  },
  {
   "cell_type": "code",
   "execution_count": 7,
   "metadata": {},
   "outputs": [],
   "source": [
    "def to_rhythm(stim_df):\n",
    "    rhythm = [set() for _ in range(16*4 + 1)]\n",
    "    for inst, beat in stim_df[['Instrument', 'Beats']].values:\n",
    "        inst = INST_MAP.get(inst)\n",
    "        if inst:\n",
    "            i = int(beat / 0.25)\n",
    "            rhythm[i].add(inst)\n",
    "    rhythm = ['-'.join(sorted(set(insts))) for insts in rhythm]\n",
    "    return rhythm"
   ]
  },
  {
   "cell_type": "markdown",
   "metadata": {},
   "source": [
    "### Polyphonic LHL Implementation"
   ]
  },
  {
   "cell_type": "code",
   "execution_count": 9,
   "metadata": {},
   "outputs": [],
   "source": [
    "inst_strs = collections.Counter()\n",
    "rhy_inst_strs = collections.defaultdict(lambda: collections.Counter())\n",
    "\n",
    "def poly_lhl(rhythm, weights, iweights, v=False, rhy_label=None):\n",
    "    score = 0\n",
    "    for i, r in enumerate(rhythm):\n",
    "        if r:\n",
    "            prev = i\n",
    "            while True:\n",
    "                prev -= 1\n",
    "                if rhythm[prev]:\n",
    "                    break\n",
    "            sync = weights[i] - weights[prev]\n",
    "            inst_str = rhythm[prev] + \"_\" + rhythm[i]\n",
    "                    \n",
    "            # Is this syncopated? Tally, and add instrumentation weight\n",
    "            if sync >= 0:\n",
    "                inst_score = iweights.get(inst_str, 0.0)\n",
    "                score += (sync + inst_score)\n",
    "                \n",
    "            # Also track all syncopation in v=Verbose mode\n",
    "            if sync >= 0 and v:\n",
    "                if rhy_label:\n",
    "                    global rhy_inst_strs\n",
    "                    rhy_inst_strs[inst_str][rhy_label] += 1\n",
    "\n",
    "                global inst_strs\n",
    "                inst_strs[inst_str] += 1\n",
    "                \n",
    "    # Norm\n",
    "    score /= len(rhythm)\n",
    "    return score"
   ]
  },
  {
   "cell_type": "code",
   "execution_count": 10,
   "metadata": {},
   "outputs": [],
   "source": [
    "def evaluate(iweights):\n",
    "    X = np.zeros(N)\n",
    "    y = np.zeros(N)\n",
    "    for i, siglum in enumerate(s_df['siglum'].unique()):\n",
    "        stim_df = s_df[s_df['siglum'] == siglum]\n",
    "        rhy = to_rhythm(stim_df)\n",
    "        X[i] = poly_lhl(rhy, weights, iweights)\n",
    "        y[i] = perccomplex[siglum]\n",
    "    X = sm.add_constant(X)\n",
    "    model = sm.OLS(y, X)\n",
    "    results = model.fit()\n",
    "    return results.aic"
   ]
  },
  {
   "cell_type": "code",
   "execution_count": 11,
   "metadata": {},
   "outputs": [],
   "source": [
    "iweights = {\n",
    "  \"BD_HH-SD\":    2,\n",
    "  \"BD-HH_HH-SD\": 2,\n",
    "    \n",
    "  \"SD_BD-HH\":    1,\n",
    "  \"HH-SD_BD-HH\": 1,\n",
    "    \n",
    "  \"SD_HH\":       5,\n",
    "  \"BD_HH\":       5,\n",
    "}"
   ]
  },
  {
   "cell_type": "markdown",
   "metadata": {},
   "source": [
    "Sanity check that the original Senn et al. (2018) syncopation scores correlate with the derived values:"
   ]
  },
  {
   "cell_type": "code",
   "execution_count": 12,
   "metadata": {},
   "outputs": [
    {
     "data": {
      "text/plain": [
       "(0.9090373070620754, 2.9786494629431108e-15)"
      ]
     },
     "execution_count": 12,
     "metadata": {},
     "output_type": "execute_result"
    }
   ],
   "source": [
    "x, y = [], []\n",
    "for af in s_df['Audiofile'].unique():\n",
    "    siglum = af[3:-4]\n",
    "    stim_df = s_df[s_df['Audiofile'] == af]\n",
    "    rhy = to_rhythm(stim_df)\n",
    "    sync = poly_lhl(rhy, weights, iweights, v=True, rhy_label=siglum)\n",
    "    ref_sync = syncopation[siglum]\n",
    "    x.append(sync)\n",
    "    y.append(ref_sync)\n",
    "scipy.stats.pearsonr(x, y)"
   ]
  },
  {
   "cell_type": "markdown",
   "metadata": {},
   "source": [
    "## Hyperparameters"
   ]
  },
  {
   "cell_type": "markdown",
   "metadata": {},
   "source": [
    "Occurrence counts for different syncopations (across streams):"
   ]
  },
  {
   "cell_type": "code",
   "execution_count": 13,
   "metadata": {},
   "outputs": [
    {
     "name": "stdout",
     "output_type": "stream",
     "text": [
      "- HH_BD-HH 141\n",
      "- HH_HH 102\n",
      "- HH_HH-SD 65\n",
      "> BD_HH 64\n",
      "> BD_HH-SD 61\n",
      "> BD-HH_HH-SD 60\n",
      "> SD_BD-HH 51\n",
      "- BD-HH_BD-HH 46\n",
      "- BD_BD-HH 34\n",
      "> SD_HH 34\n",
      "- BD-HH_HH 25\n",
      "- HH_BD-HH-SD 24\n",
      "- HH_BD 20\n",
      "- HH-SD_HH 17\n",
      "- HH_BD-SD 16\n",
      "- SD_BD 14\n",
      "- BD_BD 13\n",
      "> HH-SD_BD-HH 11\n",
      "- BD-HH-SD_BD-HH 11\n",
      "- SD_HH-SD 11\n"
     ]
    }
   ],
   "source": [
    "for k, v in sorted(list(inst_strs.items()), key=lambda x: -x[1])[:20]:\n",
    "    ext = '>' if k in iweights else '-'\n",
    "    print(ext, k, v)"
   ]
  },
  {
   "cell_type": "markdown",
   "metadata": {},
   "source": [
    "All possible syncopation types:"
   ]
  },
  {
   "cell_type": "code",
   "execution_count": 14,
   "metadata": {},
   "outputs": [],
   "source": [
    "poss = lambda n: ['-'.join(sorted(cs)) for cs in itertools.combinations(['BD', 'SD', 'HH'], n)]\n",
    "events = poss(3) + poss(2) + poss(1)\n",
    "sync_pairs = ['_'.join(pair) for pair in itertools.permutations(events, 2)]"
   ]
  },
  {
   "cell_type": "code",
   "execution_count": 15,
   "metadata": {},
   "outputs": [],
   "source": [
    "cutoff = sorted(inst_strs.values())[-10:][0]\n",
    "some_sync_pairs = [k for k,v in inst_strs.items() if v > cutoff]"
   ]
  },
  {
   "cell_type": "markdown",
   "metadata": {},
   "source": [
    "## Learning"
   ]
  },
  {
   "cell_type": "markdown",
   "metadata": {},
   "source": [
    "_This takes some time, depending on `n_trials`!_"
   ]
  },
  {
   "cell_type": "code",
   "execution_count": 16,
   "metadata": {},
   "outputs": [],
   "source": [
    "def objective(trial):\n",
    "    #Witek's weights\n",
    "    keys = [\"BD_HH-SD\", \"BD-HH_HH-SD\", \"SD_BD-HH\", \"HH-SD_BD-HH\", \"SD_HH\", \"BD_HH\"]\n",
    "    # Add some other common combinations\n",
    "    keys += ['HH_BD', 'SD_BD', 'BD_BD-HH', 'BD-HH_HH', 'HH-SD_HH', 'BD-HH_BD-HH']\n",
    "    \n",
    "    # Most frequent combinations (doesn't seem so informative)\n",
    "    #keys = some_sync_pairs\n",
    "    # All possible combinations (this is hugely complex)\n",
    "    # keys = sync_pairs\n",
    "    \n",
    "    _iweights = {key: trial.suggest_uniform(key, 0, 10) for key in keys}\n",
    "    return evaluate(_iweights)\n",
    "\n",
    "optuna.logging.set_verbosity(optuna.logging.WARNING)\n",
    "study = optuna.create_study()\n",
    "study.optimize(objective, n_trials=2000)"
   ]
  },
  {
   "cell_type": "code",
   "execution_count": 17,
   "metadata": {},
   "outputs": [
    {
     "data": {
      "text/plain": [
       "{'BD_HH-SD': 2.589904019737045,\n",
       " 'BD-HH_HH-SD': 0.006028474457162396,\n",
       " 'SD_BD-HH': 1.743993235011478,\n",
       " 'HH-SD_BD-HH': 0.6734186097712589,\n",
       " 'SD_HH': 6.018209271229469,\n",
       " 'BD_HH': 0.28994550206977415,\n",
       " 'HH_BD': 1.7364760159147938,\n",
       " 'SD_BD': 9.812648477060456,\n",
       " 'BD_BD-HH': 1.1089228110034242,\n",
       " 'BD-HH_HH': 5.515483646069486,\n",
       " 'HH-SD_HH': 2.831522571453612,\n",
       " 'BD-HH_BD-HH': 0.8603425670364434}"
      ]
     },
     "execution_count": 17,
     "metadata": {},
     "output_type": "execute_result"
    }
   ],
   "source": [
    "study.best_params"
   ]
  },
  {
   "cell_type": "markdown",
   "metadata": {},
   "source": [
    "## Results"
   ]
  },
  {
   "cell_type": "markdown",
   "metadata": {},
   "source": [
    "Revisions to original weights proposed in Witek et al. (2014):"
   ]
  },
  {
   "cell_type": "code",
   "execution_count": 18,
   "metadata": {},
   "outputs": [
    {
     "data": {
      "text/html": [
       "<div>\n",
       "<style scoped>\n",
       "    .dataframe tbody tr th:only-of-type {\n",
       "        vertical-align: middle;\n",
       "    }\n",
       "\n",
       "    .dataframe tbody tr th {\n",
       "        vertical-align: top;\n",
       "    }\n",
       "\n",
       "    .dataframe thead th {\n",
       "        text-align: right;\n",
       "    }\n",
       "</style>\n",
       "<table border=\"1\" class=\"dataframe\">\n",
       "  <thead>\n",
       "    <tr style=\"text-align: right;\">\n",
       "      <th></th>\n",
       "      <th>Streams</th>\n",
       "      <th>Prev.Score</th>\n",
       "      <th>New.Score</th>\n",
       "      <th>Freq</th>\n",
       "      <th>Norm.Score</th>\n",
       "      <th>Delta</th>\n",
       "    </tr>\n",
       "  </thead>\n",
       "  <tbody>\n",
       "    <tr>\n",
       "      <th>7</th>\n",
       "      <td>SD_BD</td>\n",
       "      <td>0</td>\n",
       "      <td>9.812648</td>\n",
       "      <td>14</td>\n",
       "      <td>0.700903</td>\n",
       "      <td>9.812648</td>\n",
       "    </tr>\n",
       "    <tr>\n",
       "      <th>9</th>\n",
       "      <td>BD-HH_HH</td>\n",
       "      <td>0</td>\n",
       "      <td>5.515484</td>\n",
       "      <td>25</td>\n",
       "      <td>0.220619</td>\n",
       "      <td>5.515484</td>\n",
       "    </tr>\n",
       "    <tr>\n",
       "      <th>4</th>\n",
       "      <td>SD_HH</td>\n",
       "      <td>5</td>\n",
       "      <td>6.018209</td>\n",
       "      <td>34</td>\n",
       "      <td>0.177006</td>\n",
       "      <td>1.018209</td>\n",
       "    </tr>\n",
       "    <tr>\n",
       "      <th>10</th>\n",
       "      <td>HH-SD_HH</td>\n",
       "      <td>0</td>\n",
       "      <td>2.831523</td>\n",
       "      <td>17</td>\n",
       "      <td>0.166560</td>\n",
       "      <td>2.831523</td>\n",
       "    </tr>\n",
       "    <tr>\n",
       "      <th>6</th>\n",
       "      <td>HH_BD</td>\n",
       "      <td>0</td>\n",
       "      <td>1.736476</td>\n",
       "      <td>20</td>\n",
       "      <td>0.086824</td>\n",
       "      <td>1.736476</td>\n",
       "    </tr>\n",
       "    <tr>\n",
       "      <th>3</th>\n",
       "      <td>HH-SD_BD-HH</td>\n",
       "      <td>1</td>\n",
       "      <td>0.673419</td>\n",
       "      <td>11</td>\n",
       "      <td>0.061220</td>\n",
       "      <td>0.326581</td>\n",
       "    </tr>\n",
       "    <tr>\n",
       "      <th>0</th>\n",
       "      <td>BD_HH-SD</td>\n",
       "      <td>2</td>\n",
       "      <td>2.589904</td>\n",
       "      <td>61</td>\n",
       "      <td>0.042457</td>\n",
       "      <td>0.589904</td>\n",
       "    </tr>\n",
       "    <tr>\n",
       "      <th>2</th>\n",
       "      <td>SD_BD-HH</td>\n",
       "      <td>1</td>\n",
       "      <td>1.743993</td>\n",
       "      <td>51</td>\n",
       "      <td>0.034196</td>\n",
       "      <td>0.743993</td>\n",
       "    </tr>\n",
       "    <tr>\n",
       "      <th>8</th>\n",
       "      <td>BD_BD-HH</td>\n",
       "      <td>0</td>\n",
       "      <td>1.108923</td>\n",
       "      <td>34</td>\n",
       "      <td>0.032615</td>\n",
       "      <td>1.108923</td>\n",
       "    </tr>\n",
       "    <tr>\n",
       "      <th>11</th>\n",
       "      <td>BD-HH_BD-HH</td>\n",
       "      <td>0</td>\n",
       "      <td>0.860343</td>\n",
       "      <td>46</td>\n",
       "      <td>0.018703</td>\n",
       "      <td>0.860343</td>\n",
       "    </tr>\n",
       "    <tr>\n",
       "      <th>5</th>\n",
       "      <td>BD_HH</td>\n",
       "      <td>5</td>\n",
       "      <td>0.289946</td>\n",
       "      <td>64</td>\n",
       "      <td>0.004530</td>\n",
       "      <td>4.710054</td>\n",
       "    </tr>\n",
       "    <tr>\n",
       "      <th>1</th>\n",
       "      <td>BD-HH_HH-SD</td>\n",
       "      <td>2</td>\n",
       "      <td>0.006028</td>\n",
       "      <td>60</td>\n",
       "      <td>0.000100</td>\n",
       "      <td>1.993972</td>\n",
       "    </tr>\n",
       "  </tbody>\n",
       "</table>\n",
       "</div>"
      ],
      "text/plain": [
       "        Streams  Prev.Score  New.Score  Freq  Norm.Score     Delta\n",
       "7         SD_BD           0   9.812648    14    0.700903  9.812648\n",
       "9      BD-HH_HH           0   5.515484    25    0.220619  5.515484\n",
       "4         SD_HH           5   6.018209    34    0.177006  1.018209\n",
       "10     HH-SD_HH           0   2.831523    17    0.166560  2.831523\n",
       "6         HH_BD           0   1.736476    20    0.086824  1.736476\n",
       "3   HH-SD_BD-HH           1   0.673419    11    0.061220  0.326581\n",
       "0      BD_HH-SD           2   2.589904    61    0.042457  0.589904\n",
       "2      SD_BD-HH           1   1.743993    51    0.034196  0.743993\n",
       "8      BD_BD-HH           0   1.108923    34    0.032615  1.108923\n",
       "11  BD-HH_BD-HH           0   0.860343    46    0.018703  0.860343\n",
       "5         BD_HH           5   0.289946    64    0.004530  4.710054\n",
       "1   BD-HH_HH-SD           2   0.006028    60    0.000100  1.993972"
      ]
     },
     "execution_count": 18,
     "metadata": {},
     "output_type": "execute_result"
    }
   ],
   "source": [
    "recs = []\n",
    "for k, v in iweights.items():\n",
    "    recs.append((k, v, study.best_params[k], inst_strs[k]))\n",
    "for k, v in study.best_params.items():\n",
    "    if k not in iweights:\n",
    "        recs.append((k, 0, v, inst_strs[k]))\n",
    "final_df = pd.DataFrame(recs, columns=['Streams', 'Prev.Score', 'New.Score', 'Freq'])\n",
    "final_df['Norm.Score'] = final_df['New.Score'] / final_df['Freq']\n",
    "final_df['Delta'] = (final_df['Prev.Score']-final_df['New.Score']).abs()\n",
    "final_df.sort_values(by='Norm.Score', ascending=False)"
   ]
  },
  {
   "cell_type": "markdown",
   "metadata": {},
   "source": [
    "## Finally"
   ]
  },
  {
   "cell_type": "markdown",
   "metadata": {},
   "source": [
    "Comparison between learned linear model (in R), \"Kaplan\", and parameters from Witek et al. (2014), \"Lucerne\":"
   ]
  },
  {
   "cell_type": "markdown",
   "metadata": {},
   "source": [
    "```\n",
    "Name       | Model |    R2 | R2 (adj.) |  RMSE | Sigma | AIC weights | BIC weights | Performance-Score\n",
    "------------------------------------------------------------------------------------------------------\n",
    "kaplan_lm  |    lm | 0.639 |     0.629 | 0.678 | 0.696 |       1.000 |       1.000 |           100.00%\n",
    "lucerne_lm |    lm | 0.429 |     0.413 | 0.852 | 0.876 |     < 0.001 |     < 0.001 |             0.00%\n",
    "```"
   ]
  },
  {
   "cell_type": "code",
   "execution_count": 29,
   "metadata": {},
   "outputs": [
    {
     "data": {
      "text/plain": [
       "<seaborn.axisgrid.FacetGrid at 0x122bda8d0>"
      ]
     },
     "execution_count": 29,
     "metadata": {},
     "output_type": "execute_result"
    },
    {
     "data": {
      "image/png": "[encoded data removed]",
      "text/plain": [
       "<Figure size 436.125x360 with 1 Axes>"
      ]
     },
     "metadata": {
      "needs_background": "light"
     },
     "output_type": "display_data"
    }
   ],
   "source": [
    "recs = []\n",
    "recs += [[xx, yy, 'Kaplan'] for xx, yy in zip(X, y)]\n",
    "recs += [[xx, yy, 'Lucerne'] for xx, yy in zip(X2, y)]\n",
    "sns_df = pd.DataFrame(recs, columns=['ModelComplexity', 'PerceivedComplexity', 'Model'])\n",
    "sns.lmplot(x='PerceivedComplexity', y='ModelComplexity', data=sns_df, hue='Model', palette='husl')"
   ]
  },
  {
   "cell_type": "code",
   "execution_count": null,
   "metadata": {},
   "outputs": [],
   "source": []
  }
 ],
 "metadata": {
  "kernelspec": {
   "display_name": "Python 3",
   "language": "python",
   "name": "python3"
  },
  "language_info": {
   "codemirror_mode": {
    "name": "ipython",
    "version": 3
   },
   "file_extension": ".py",
   "mimetype": "text/x-python",
   "name": "python",
   "nbconvert_exporter": "python",
   "pygments_lexer": "ipython3",
   "version": "3.6.5"
  }
 },
 "nbformat": 4,
 "nbformat_minor": 4
}
